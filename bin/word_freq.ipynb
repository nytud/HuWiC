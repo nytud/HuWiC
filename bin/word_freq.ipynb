{
 "cells": [
  {
   "cell_type": "code",
   "execution_count": 1,
   "id": "77ff9d58-d53f-45a5-a7fd-754dcd2d5fe0",
   "metadata": {},
   "outputs": [],
   "source": [
    "import os\n",
    "import re\n",
    "import sys\n",
    "# sys.stdout=open('f2.txt','w')\n",
    "from collections import Counter\n",
    "from glob import iglob\n",
    "\n"
   ]
  },
  {
   "cell_type": "code",
   "execution_count": 36,
   "id": "ca0e6f1e-71a9-4c4a-b482-9d49a8f984b4",
   "metadata": {},
   "outputs": [],
   "source": [
    "def extract_lemmas(file):\n",
    "    lemmas = []\n",
    "    for line in file:\n",
    "        tokens=line.split(' ')\n",
    "        lemmas_ = [tok.split('/')[1] for tok in tokens if len(tok.split('/')) == 3]\n",
    "        lemmas.extend(lemmas_)\n",
    "    return lemmas\n"
   ]
  },
  {
   "cell_type": "code",
   "execution_count": 41,
   "id": "7ded4ec8-1d1c-4003-80ae-e3da38675f1f",
   "metadata": {},
   "outputs": [],
   "source": [
    "folderpath='../data/mini_corpus/token_lemma_ana/'\n",
    "counter=Counter()\n",
    "\n",
    "for filepath in iglob(os.path.join(folderpath,'*.txt')):\n",
    "    with open(filepath,'r') as filehandle:\n",
    "        # print(filepath)\n",
    "        lemmas = extract_lemmas(filehandle)\n",
    "        counter.update(lemmas)\n",
    "\n",
    "outp = open('../data/mini_corpus/freqs/word_freqs.txt', 'w')        \n",
    "for word,count in counter.items():\n",
    "    outp.write(word + '\\t' + str(count) + '\\n')"
   ]
  },
  {
   "cell_type": "code",
   "execution_count": 46,
   "id": "6ea38089-45bd-4293-a05e-5d2af5d02b55",
   "metadata": {},
   "outputs": [],
   "source": [
    "inp = open('../data/mini_corpus/freqs/word_freqs.txt')\n",
    "import csv\n",
    "import pandas as pd\n",
    "data = pd.read_csv(inp, delimiter = '\\t', header = None, quoting=csv.QUOTE_NONE, encoding='utf-8')"
   ]
  },
  {
   "cell_type": "code",
   "execution_count": 49,
   "id": "5cc72fbe-f4d9-41d7-9938-610e50bb3bdb",
   "metadata": {},
   "outputs": [],
   "source": [
    "data.columns=['lemma', 'freq']"
   ]
  },
  {
   "cell_type": "code",
   "execution_count": 56,
   "id": "2cc362de-9a7a-48e4-8291-3e0e8fafdb2d",
   "metadata": {},
   "outputs": [],
   "source": [
    "sorted_data = data.sort_values(by=['freq'], ascending = False)"
   ]
  },
  {
   "cell_type": "code",
   "execution_count": 57,
   "id": "d95543ec-bbd4-4970-9d6a-720a4d946ea6",
   "metadata": {},
   "outputs": [],
   "source": [
    "sorted_data.to_csv(path_or_buf = '../data/mini_corpus/freqs/word_freqs_sorted.csv', index = False)"
   ]
  },
  {
   "cell_type": "code",
   "execution_count": null,
   "id": "0540a019-4a7e-4f6e-b45a-ab9c8a91d961",
   "metadata": {},
   "outputs": [],
   "source": []
  }
 ],
 "metadata": {
  "kernelspec": {
   "display_name": "Python 3 (ipykernel)",
   "language": "python",
   "name": "python3"
  },
  "language_info": {
   "codemirror_mode": {
    "name": "ipython",
    "version": 3
   },
   "file_extension": ".py",
   "mimetype": "text/x-python",
   "name": "python",
   "nbconvert_exporter": "python",
   "pygments_lexer": "ipython3",
   "version": "3.8.12"
  }
 },
 "nbformat": 4,
 "nbformat_minor": 5
}
